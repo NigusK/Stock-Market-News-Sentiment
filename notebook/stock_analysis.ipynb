{
 "cells": [
  {
   "cell_type": "markdown",
   "metadata": {},
   "source": [
    "# Stock Market Technical Indicators"
   ]
  },
  {
   "cell_type": "markdown",
   "metadata": {},
   "source": [
    "### Add Project Directory To path"
   ]
  },
  {
   "cell_type": "code",
   "execution_count": 1,
   "metadata": {},
   "outputs": [],
   "source": [
    "import os\n",
    "import pandas as pd\n",
    "# Get the current working directory (where the notebook is running)\n",
    "notebook_dir = os.getcwd()\n",
    "parent_path=os.path.dirname(notebook_dir)\n",
    "\n",
    "os.chdir(parent_path)"
   ]
  },
  {
   "cell_type": "markdown",
   "metadata": {},
   "source": [
    "### Import Module"
   ]
  },
  {
   "cell_type": "code",
   "execution_count": 2,
   "metadata": {},
   "outputs": [],
   "source": [
    "from script.stock_analyzer import StockAnalyzer\n",
    "analyzer=StockAnalyzer()"
   ]
  },
  {
   "cell_type": "markdown",
   "metadata": {},
   "source": [
    "### Import Data"
   ]
  },
  {
   "cell_type": "code",
   "execution_count": 3,
   "metadata": {},
   "outputs": [],
   "source": [
    "headline_df=pd.read_csv('data/raw_analyst_ratings.csv')"
   ]
  },
  {
   "cell_type": "markdown",
   "metadata": {},
   "source": [
    "## Apple's Stock "
   ]
  },
  {
   "cell_type": "code",
   "execution_count": 4,
   "metadata": {},
   "outputs": [
    {
     "name": "stdout",
     "output_type": "stream",
     "text": [
      "Max date: 2020-06-10 00:00:00\n",
      "Min date: 2020-03-09 00:00:00\n"
     ]
    }
   ],
   "source": [
    "#get the day range\n",
    "min_date,max_date=analyzer.get_day_range(headline_df,'AAPL')"
   ]
  },
  {
   "cell_type": "markdown",
   "metadata": {},
   "source": [
    "### Apple's Historical Data "
   ]
  },
  {
   "cell_type": "code",
   "execution_count": 5,
   "metadata": {},
   "outputs": [
    {
     "name": "stderr",
     "output_type": "stream",
     "text": [
      "[*********************100%***********************]  1 of 1 completed\n"
     ]
    },
    {
     "data": {
      "text/html": [
       "<div>\n",
       "<style scoped>\n",
       "    .dataframe tbody tr th:only-of-type {\n",
       "        vertical-align: middle;\n",
       "    }\n",
       "\n",
       "    .dataframe tbody tr th {\n",
       "        vertical-align: top;\n",
       "    }\n",
       "\n",
       "    .dataframe thead tr th {\n",
       "        text-align: left;\n",
       "    }\n",
       "\n",
       "    .dataframe thead tr:last-of-type th {\n",
       "        text-align: right;\n",
       "    }\n",
       "</style>\n",
       "<table border=\"1\" class=\"dataframe\">\n",
       "  <thead>\n",
       "    <tr>\n",
       "      <th>Price</th>\n",
       "      <th>Adj Close</th>\n",
       "      <th>Close</th>\n",
       "      <th>High</th>\n",
       "      <th>Low</th>\n",
       "      <th>Open</th>\n",
       "      <th>Volume</th>\n",
       "    </tr>\n",
       "    <tr>\n",
       "      <th>Ticker</th>\n",
       "      <th>AAPL</th>\n",
       "      <th>AAPL</th>\n",
       "      <th>AAPL</th>\n",
       "      <th>AAPL</th>\n",
       "      <th>AAPL</th>\n",
       "      <th>AAPL</th>\n",
       "    </tr>\n",
       "    <tr>\n",
       "      <th>Date</th>\n",
       "      <th></th>\n",
       "      <th></th>\n",
       "      <th></th>\n",
       "      <th></th>\n",
       "      <th></th>\n",
       "      <th></th>\n",
       "    </tr>\n",
       "  </thead>\n",
       "  <tbody>\n",
       "    <tr>\n",
       "      <th>2020-03-09</th>\n",
       "      <td>64.664902</td>\n",
       "      <td>66.542503</td>\n",
       "      <td>69.522499</td>\n",
       "      <td>65.750000</td>\n",
       "      <td>65.937500</td>\n",
       "      <td>286744800</td>\n",
       "    </tr>\n",
       "    <tr>\n",
       "      <th>2020-03-10</th>\n",
       "      <td>69.322174</td>\n",
       "      <td>71.334999</td>\n",
       "      <td>71.610001</td>\n",
       "      <td>67.342499</td>\n",
       "      <td>69.285004</td>\n",
       "      <td>285290000</td>\n",
       "    </tr>\n",
       "    <tr>\n",
       "      <th>2020-03-11</th>\n",
       "      <td>66.914574</td>\n",
       "      <td>68.857498</td>\n",
       "      <td>70.305000</td>\n",
       "      <td>67.964996</td>\n",
       "      <td>69.347504</td>\n",
       "      <td>255598800</td>\n",
       "    </tr>\n",
       "    <tr>\n",
       "      <th>2020-03-12</th>\n",
       "      <td>60.306450</td>\n",
       "      <td>62.057499</td>\n",
       "      <td>67.500000</td>\n",
       "      <td>62.000000</td>\n",
       "      <td>63.985001</td>\n",
       "      <td>418474000</td>\n",
       "    </tr>\n",
       "    <tr>\n",
       "      <th>2020-03-13</th>\n",
       "      <td>67.531677</td>\n",
       "      <td>69.492500</td>\n",
       "      <td>69.980003</td>\n",
       "      <td>63.237499</td>\n",
       "      <td>66.222504</td>\n",
       "      <td>370732000</td>\n",
       "    </tr>\n",
       "  </tbody>\n",
       "</table>\n",
       "</div>"
      ],
      "text/plain": [
       "Price       Adj Close      Close       High        Low       Open     Volume\n",
       "Ticker           AAPL       AAPL       AAPL       AAPL       AAPL       AAPL\n",
       "Date                                                                        \n",
       "2020-03-09  64.664902  66.542503  69.522499  65.750000  65.937500  286744800\n",
       "2020-03-10  69.322174  71.334999  71.610001  67.342499  69.285004  285290000\n",
       "2020-03-11  66.914574  68.857498  70.305000  67.964996  69.347504  255598800\n",
       "2020-03-12  60.306450  62.057499  67.500000  62.000000  63.985001  418474000\n",
       "2020-03-13  67.531677  69.492500  69.980003  63.237499  66.222504  370732000"
      ]
     },
     "execution_count": 5,
     "metadata": {},
     "output_type": "execute_result"
    }
   ],
   "source": [
    "#retrieve data using yfinance\n",
    "apple_stock_data=analyzer.retrieve_stock_data('AAPL',min_date,max_date)\n",
    "apple_stock_data.head()"
   ]
  },
  {
   "cell_type": "code",
   "execution_count": 6,
   "metadata": {},
   "outputs": [],
   "source": [
    "# import talib as ta\n",
    "# # print(type(apple_stock_data['Close']['AAPL']))\n",
    "# # apple_stock_data['Close']['AAPL']\n",
    "# data=apple_stock_data['Close']['AAPL']\n",
    "# SMA=ta.SMA(data, timeperiod=20)\n",
    "# SMA"
   ]
  },
  {
   "cell_type": "markdown",
   "metadata": {},
   "source": [
    "### Calculate Technical Indicators"
   ]
  },
  {
   "cell_type": "code",
   "execution_count": 7,
   "metadata": {},
   "outputs": [
    {
     "data": {
      "text/html": [
       "<div>\n",
       "<style scoped>\n",
       "    .dataframe tbody tr th:only-of-type {\n",
       "        vertical-align: middle;\n",
       "    }\n",
       "\n",
       "    .dataframe tbody tr th {\n",
       "        vertical-align: top;\n",
       "    }\n",
       "\n",
       "    .dataframe thead tr th {\n",
       "        text-align: left;\n",
       "    }\n",
       "\n",
       "    .dataframe thead tr:last-of-type th {\n",
       "        text-align: right;\n",
       "    }\n",
       "</style>\n",
       "<table border=\"1\" class=\"dataframe\">\n",
       "  <thead>\n",
       "    <tr>\n",
       "      <th>Price</th>\n",
       "      <th>Adj Close</th>\n",
       "      <th>Close</th>\n",
       "      <th>High</th>\n",
       "      <th>Low</th>\n",
       "      <th>Open</th>\n",
       "      <th>Volume</th>\n",
       "      <th>SMA</th>\n",
       "      <th>RSI</th>\n",
       "      <th>EMA</th>\n",
       "      <th>MACD</th>\n",
       "      <th>MACD_Signal</th>\n",
       "    </tr>\n",
       "    <tr>\n",
       "      <th>Ticker</th>\n",
       "      <th>AAPL</th>\n",
       "      <th>AAPL</th>\n",
       "      <th>AAPL</th>\n",
       "      <th>AAPL</th>\n",
       "      <th>AAPL</th>\n",
       "      <th>AAPL</th>\n",
       "      <th></th>\n",
       "      <th></th>\n",
       "      <th></th>\n",
       "      <th></th>\n",
       "      <th></th>\n",
       "    </tr>\n",
       "    <tr>\n",
       "      <th>Date</th>\n",
       "      <th></th>\n",
       "      <th></th>\n",
       "      <th></th>\n",
       "      <th></th>\n",
       "      <th></th>\n",
       "      <th></th>\n",
       "      <th></th>\n",
       "      <th></th>\n",
       "      <th></th>\n",
       "      <th></th>\n",
       "      <th></th>\n",
       "    </tr>\n",
       "  </thead>\n",
       "  <tbody>\n",
       "    <tr>\n",
       "      <th>2020-06-03</th>\n",
       "      <td>79.200371</td>\n",
       "      <td>81.279999</td>\n",
       "      <td>81.550003</td>\n",
       "      <td>80.574997</td>\n",
       "      <td>81.165001</td>\n",
       "      <td>104491200</td>\n",
       "      <td>78.627876</td>\n",
       "      <td>68.538887</td>\n",
       "      <td>78.126181</td>\n",
       "      <td>2.443072</td>\n",
       "      <td>2.593375</td>\n",
       "    </tr>\n",
       "    <tr>\n",
       "      <th>2020-06-04</th>\n",
       "      <td>78.518265</td>\n",
       "      <td>80.580002</td>\n",
       "      <td>81.404999</td>\n",
       "      <td>80.195000</td>\n",
       "      <td>81.097504</td>\n",
       "      <td>87560400</td>\n",
       "      <td>78.899001</td>\n",
       "      <td>64.613988</td>\n",
       "      <td>78.359878</td>\n",
       "      <td>2.350095</td>\n",
       "      <td>2.544719</td>\n",
       "    </tr>\n",
       "    <tr>\n",
       "      <th>2020-06-05</th>\n",
       "      <td>80.754555</td>\n",
       "      <td>82.875000</td>\n",
       "      <td>82.937500</td>\n",
       "      <td>80.807503</td>\n",
       "      <td>80.837502</td>\n",
       "      <td>137250400</td>\n",
       "      <td>79.246001</td>\n",
       "      <td>70.565405</td>\n",
       "      <td>78.789890</td>\n",
       "      <td>2.433545</td>\n",
       "      <td>2.522484</td>\n",
       "    </tr>\n",
       "    <tr>\n",
       "      <th>2020-06-08</th>\n",
       "      <td>81.232018</td>\n",
       "      <td>83.364998</td>\n",
       "      <td>83.400002</td>\n",
       "      <td>81.830002</td>\n",
       "      <td>82.562500</td>\n",
       "      <td>95654400</td>\n",
       "      <td>79.537626</td>\n",
       "      <td>71.661291</td>\n",
       "      <td>79.225614</td>\n",
       "      <td>2.510281</td>\n",
       "      <td>2.520043</td>\n",
       "    </tr>\n",
       "    <tr>\n",
       "      <th>2020-06-09</th>\n",
       "      <td>83.797157</td>\n",
       "      <td>85.997498</td>\n",
       "      <td>86.402496</td>\n",
       "      <td>83.002502</td>\n",
       "      <td>83.035004</td>\n",
       "      <td>147712400</td>\n",
       "      <td>79.899875</td>\n",
       "      <td>76.683830</td>\n",
       "      <td>79.870556</td>\n",
       "      <td>2.751795</td>\n",
       "      <td>2.566394</td>\n",
       "    </tr>\n",
       "  </tbody>\n",
       "</table>\n",
       "</div>"
      ],
      "text/plain": [
       "Price       Adj Close      Close       High        Low       Open     Volume  \\\n",
       "Ticker           AAPL       AAPL       AAPL       AAPL       AAPL       AAPL   \n",
       "Date                                                                           \n",
       "2020-06-03  79.200371  81.279999  81.550003  80.574997  81.165001  104491200   \n",
       "2020-06-04  78.518265  80.580002  81.404999  80.195000  81.097504   87560400   \n",
       "2020-06-05  80.754555  82.875000  82.937500  80.807503  80.837502  137250400   \n",
       "2020-06-08  81.232018  83.364998  83.400002  81.830002  82.562500   95654400   \n",
       "2020-06-09  83.797157  85.997498  86.402496  83.002502  83.035004  147712400   \n",
       "\n",
       "Price             SMA        RSI        EMA      MACD MACD_Signal  \n",
       "Ticker                                                             \n",
       "Date                                                               \n",
       "2020-06-03  78.627876  68.538887  78.126181  2.443072    2.593375  \n",
       "2020-06-04  78.899001  64.613988  78.359878  2.350095    2.544719  \n",
       "2020-06-05  79.246001  70.565405  78.789890  2.433545    2.522484  \n",
       "2020-06-08  79.537626  71.661291  79.225614  2.510281    2.520043  \n",
       "2020-06-09  79.899875  76.683830  79.870556  2.751795    2.566394  "
      ]
     },
     "execution_count": 7,
     "metadata": {},
     "output_type": "execute_result"
    }
   ],
   "source": [
    "# Calculate technical indicators\n",
    "apple_stock_data_indicators = analyzer.calculate_technical_indicators(apple_stock_data,'AAPL')\n",
    "apple_stock_data_indicators.tail()"
   ]
  }
 ],
 "metadata": {
  "kernelspec": {
   "display_name": ".venv",
   "language": "python",
   "name": "python3"
  },
  "language_info": {
   "codemirror_mode": {
    "name": "ipython",
    "version": 3
   },
   "file_extension": ".py",
   "mimetype": "text/x-python",
   "name": "python",
   "nbconvert_exporter": "python",
   "pygments_lexer": "ipython3",
   "version": "3.12.5"
  }
 },
 "nbformat": 4,
 "nbformat_minor": 2
}
